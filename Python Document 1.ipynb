{
 "cells": [
  {
   "cell_type": "markdown",
   "metadata": {},
   "source": [
    "# Week 2 - Monday Lesson (variable assignment, loops, lists)"
   ]
  },
  {
   "cell_type": "markdown",
   "metadata": {},
   "source": [
    "## Tasks Today:\n",
    "\n",
    "1) Int & Float assignments <br>\n",
    " &nbsp;&nbsp;&nbsp;&nbsp; a) Assigning int <br>\n",
    " &nbsp;&nbsp;&nbsp;&nbsp; b) Assigning float <br>\n",
    " &nbsp;&nbsp;&nbsp;&nbsp; c) Performing Calculations on ints and floats <br>\n",
    " &nbsp;&nbsp;&nbsp;&nbsp;&nbsp;&nbsp;&nbsp;&nbsp; - Addition <br>\n",
    " &nbsp;&nbsp;&nbsp;&nbsp;&nbsp;&nbsp;&nbsp;&nbsp; - Subtraction <br>\n",
    " &nbsp;&nbsp;&nbsp;&nbsp;&nbsp;&nbsp;&nbsp;&nbsp; - Multiplication <br>\n",
    " &nbsp;&nbsp;&nbsp;&nbsp;&nbsp;&nbsp;&nbsp;&nbsp; - Division <br>\n",
    " &nbsp;&nbsp;&nbsp;&nbsp;&nbsp;&nbsp;&nbsp;&nbsp; - Floor Division <br>\n",
    " &nbsp;&nbsp;&nbsp;&nbsp;&nbsp;&nbsp;&nbsp;&nbsp; - Modulo <br>\n",
    " &nbsp;&nbsp;&nbsp;&nbsp;&nbsp;&nbsp;&nbsp;&nbsp; - Exponential <br>\n",
    "2) String Input-Output <br>\n",
    " &nbsp;&nbsp;&nbsp;&nbsp; a) String Assignment <br>\n",
    " &nbsp;&nbsp;&nbsp;&nbsp; b) print() <br>\n",
    " &nbsp;&nbsp;&nbsp;&nbsp; c) String Concatenation <br>\n",
    " &nbsp;&nbsp;&nbsp;&nbsp; d) Type Conversion <br>\n",
    " &nbsp;&nbsp;&nbsp;&nbsp; e) input() <br>\n",
    " &nbsp;&nbsp;&nbsp;&nbsp; f) format() <br>\n",
    " &nbsp;&nbsp;&nbsp;&nbsp; g) Old Way (python 2) <br>\n",
    "3) <b>In-Class Exercise #1</b> <br>\n",
    "4) If Statements <br>\n",
    " &nbsp;&nbsp;&nbsp;&nbsp; a) 'is' keyword <br>\n",
    " &nbsp;&nbsp;&nbsp;&nbsp; b) 'in' keyword <br>\n",
    " &nbsp;&nbsp;&nbsp;&nbsp; c) 'not in' keyword <br>\n",
    "5) <b>In-Class Exercise #2</b> <br>\n",
    "6) Elif Statements <br>\n",
    "7) Else Statements <br>\n",
    "8) <b>In-Class Exercise #3</b> <br>\n",
    "9) For Loops <br>\n",
    " &nbsp;&nbsp;&nbsp;&nbsp; a) Using 'in' keyword <br>\n",
    " &nbsp;&nbsp;&nbsp;&nbsp; b) Continue Statement <br>\n",
    " &nbsp;&nbsp;&nbsp;&nbsp; c) Break Statement <br>\n",
    " &nbsp;&nbsp;&nbsp;&nbsp; d) Pass Statement <br>\n",
    " &nbsp;&nbsp;&nbsp;&nbsp; e) Double For Loops <br>\n",
    "10) While Loops <br>\n",
    " &nbsp;&nbsp;&nbsp;&nbsp; a) Looping 'While True' <br>\n",
    " &nbsp;&nbsp;&nbsp;&nbsp; b) While and For Loops Used Together <br>\n",
    "11) Built-In Functions <br>\n",
    " &nbsp;&nbsp;&nbsp;&nbsp; a) range() <br>\n",
    " &nbsp;&nbsp;&nbsp;&nbsp; b) len() <br>\n",
    " &nbsp;&nbsp;&nbsp;&nbsp; c) help() <br>\n",
    " &nbsp;&nbsp;&nbsp;&nbsp; d) isinstance() <br>\n",
    " &nbsp;&nbsp;&nbsp;&nbsp; e) abs() <br>\n",
    "12) Try and Except <br>\n",
    "13) Lists <br>\n",
    " &nbsp;&nbsp;&nbsp;&nbsp; a) Declaring Lists <br>\n",
    " &nbsp;&nbsp;&nbsp;&nbsp; b) Indexing a List <br>\n",
    " &nbsp;&nbsp;&nbsp;&nbsp; c) .append() <br>\n",
    " &nbsp;&nbsp;&nbsp;&nbsp; d) .insert() <br>\n",
    " &nbsp;&nbsp;&nbsp;&nbsp; e) .pop() <br>\n",
    " &nbsp;&nbsp;&nbsp;&nbsp; f) .remove() <br>\n",
    " &nbsp;&nbsp;&nbsp;&nbsp; g) del() <br>\n",
    " &nbsp;&nbsp;&nbsp;&nbsp; h) Concatenating Two Lists <br>\n",
    " &nbsp;&nbsp;&nbsp;&nbsp; i) Lists Within Lists <br>\n",
    " &nbsp;&nbsp;&nbsp;&nbsp; j) Looping Through Lists <br>"
   ]
  },
  {
   "cell_type": "markdown",
   "metadata": {},
   "source": [
    "### Int & Float Assignments"
   ]
  },
  {
   "cell_type": "markdown",
   "metadata": {},
   "source": [
    "##### Assigning int"
   ]
  },
  {
   "cell_type": "code",
   "execution_count": 1,
   "metadata": {},
   "outputs": [
    {
     "name": "stdout",
     "output_type": "stream",
     "text": [
      "6\n"
     ]
    }
   ],
   "source": [
    "number = 6\n",
    "print(number)"
   ]
  },
  {
   "cell_type": "markdown",
   "metadata": {},
   "source": [
    "##### Assinging float"
   ]
  },
  {
   "cell_type": "code",
   "execution_count": 4,
   "metadata": {},
   "outputs": [
    {
     "name": "stdout",
     "output_type": "stream",
     "text": [
      "2.3\n",
      "7.2\n"
     ]
    }
   ],
   "source": [
    "numberFloat = 2.3\n",
    "print(numberFloat)\n",
    "numberFloat = 7.2\n",
    "print(numberFloat)"
   ]
  },
  {
   "cell_type": "markdown",
   "metadata": {},
   "source": [
    "#### Performing Calculations on ints and floats"
   ]
  },
  {
   "cell_type": "markdown",
   "metadata": {},
   "source": [
    "##### Addition"
   ]
  },
  {
   "cell_type": "code",
   "execution_count": 4,
   "metadata": {},
   "outputs": [
    {
     "name": "stdout",
     "output_type": "stream",
     "text": [
      "7.4\n",
      "9.4\n"
     ]
    }
   ],
   "source": [
    "num1 = 2\n",
    "num2 = 5.4\n",
    "\n",
    "num3 = num1 + num2\n",
    "\n",
    "print(num3)\n",
    "\n",
    "num3 += 2 # Adds 2 to num3 result\n",
    "\n",
    "print(num3)"
   ]
  },
  {
   "cell_type": "markdown",
   "metadata": {},
   "source": [
    "##### Subtraction"
   ]
  },
  {
   "cell_type": "code",
   "execution_count": 5,
   "metadata": {},
   "outputs": [
    {
     "name": "stdout",
     "output_type": "stream",
     "text": [
      "3.4000000000000004\n",
      "2.4000000000000004\n"
     ]
    }
   ],
   "source": [
    "num1 = 2\n",
    "num2 = 5.4\n",
    "\n",
    "result_diff = num2 - num1\n",
    "print(result_diff)\n",
    "\n",
    "result_diff -= 1\n",
    "print(result_diff)"
   ]
  },
  {
   "cell_type": "markdown",
   "metadata": {},
   "source": [
    "##### Multiplication"
   ]
  },
  {
   "cell_type": "code",
   "execution_count": 8,
   "metadata": {},
   "outputs": [
    {
     "name": "stdout",
     "output_type": "stream",
     "text": [
      "10.8\n",
      "21.6\n"
     ]
    }
   ],
   "source": [
    "result_mull = num1 * num2\n",
    "print(result_mull)\n",
    "\n",
    "result_mull *= 2\n",
    "print(result_mull)"
   ]
  },
  {
   "cell_type": "markdown",
   "metadata": {},
   "source": [
    "##### Division"
   ]
  },
  {
   "cell_type": "code",
   "execution_count": 10,
   "metadata": {},
   "outputs": [
    {
     "name": "stdout",
     "output_type": "stream",
     "text": [
      "2.7\n",
      "0.9\n"
     ]
    }
   ],
   "source": [
    "result_div = num2 / num1\n",
    "print(result_div)\n",
    "\n",
    "result_div /= 3\n",
    "print(result_div)"
   ]
  },
  {
   "cell_type": "markdown",
   "metadata": {},
   "source": [
    "##### Floor Division"
   ]
  },
  {
   "cell_type": "code",
   "execution_count": 12,
   "metadata": {},
   "outputs": [
    {
     "name": "stdout",
     "output_type": "stream",
     "text": [
      "2.0\n",
      "1.0\n"
     ]
    }
   ],
   "source": [
    "result_floor = num2 // num1\n",
    "print(result_floor)\n",
    "\n",
    "result_floor //= 2\n",
    "print(result_floor)"
   ]
  },
  {
   "cell_type": "markdown",
   "metadata": {},
   "source": [
    "##### Modulo"
   ]
  },
  {
   "cell_type": "code",
   "execution_count": 17,
   "metadata": {},
   "outputs": [
    {
     "name": "stdout",
     "output_type": "stream",
     "text": [
      "1.4000000000000004\n",
      "1\n",
      "1\n"
     ]
    }
   ],
   "source": [
    "result_mod = num2 % num1\n",
    "print(result_mod)\n",
    "\n",
    "result_mod2 = 13 % 2\n",
    "print(result_mod2)\n",
    "\n",
    "result_mod2 %= 2\n",
    "print(result_mod2)"
   ]
  },
  {
   "cell_type": "markdown",
   "metadata": {},
   "source": [
    "##### Exponential"
   ]
  },
  {
   "cell_type": "code",
   "execution_count": 20,
   "metadata": {},
   "outputs": [
    {
     "name": "stdout",
     "output_type": "stream",
     "text": [
      "25\n",
      "625\n"
     ]
    }
   ],
   "source": [
    "square = 5 ** 2\n",
    "print(square)\n",
    "\n",
    "square **= 2\n",
    "print(square)\n"
   ]
  },
  {
   "cell_type": "markdown",
   "metadata": {},
   "source": [
    "### String Input-Output"
   ]
  },
  {
   "cell_type": "markdown",
   "metadata": {},
   "source": [
    "##### String Assignment"
   ]
  },
  {
   "cell_type": "code",
   "execution_count": 23,
   "metadata": {},
   "outputs": [
    {
     "name": "stdout",
     "output_type": "stream",
     "text": [
      "Ivan\n"
     ]
    }
   ],
   "source": [
    "name = \"Ivan\"\n",
    "print(name)"
   ]
  },
  {
   "cell_type": "markdown",
   "metadata": {},
   "source": [
    "##### print() <br>\n",
    "<p>Don't forget about end=' '</p>"
   ]
  },
  {
   "cell_type": "code",
   "execution_count": 25,
   "metadata": {},
   "outputs": [
    {
     "name": "stdout",
     "output_type": "stream",
     "text": [
      "This is my first name :  Ivan\n",
      "Full name: Ivan Angulo"
     ]
    }
   ],
   "source": [
    "print(\"This is my first name : \", name)\n",
    "\n",
    "print(\"Full name:\", name, end=\" Angulo\")"
   ]
  },
  {
   "cell_type": "markdown",
   "metadata": {},
   "source": [
    "##### String Concatenation"
   ]
  },
  {
   "cell_type": "code",
   "execution_count": 31,
   "metadata": {},
   "outputs": [
    {
     "name": "stdout",
     "output_type": "stream",
     "text": [
      "IvanAngulo\n",
      "Ivan Angulo\n",
      "Ivan Angulo, Jr\n"
     ]
    }
   ],
   "source": [
    "first_name = \"Ivan\"\n",
    "last_name = \"Angulo\"\n",
    "\n",
    "full_name = first_name + last_name\n",
    "print(full_name)\n",
    "\n",
    "full_name2 = first_name + \" \" + last_name\n",
    "print(full_name2) \n",
    "\n",
    "full_name2 += \", Jr\"\n",
    "print(full_name2)\n"
   ]
  },
  {
   "cell_type": "markdown",
   "metadata": {},
   "source": [
    "##### Type Conversion"
   ]
  },
  {
   "cell_type": "code",
   "execution_count": 34,
   "metadata": {},
   "outputs": [
    {
     "name": "stdout",
     "output_type": "stream",
     "text": [
      "32\n",
      "32\n",
      "33\n"
     ]
    }
   ],
   "source": [
    "number = \"32\"\n",
    "\n",
    "change_type_num = int(number)\n",
    "\n",
    "print(number)\n",
    "print(change_type_num)\n",
    "\n",
    "print(change_type_num + 1)\n"
   ]
  },
  {
   "cell_type": "markdown",
   "metadata": {},
   "source": [
    "##### input()"
   ]
  },
  {
   "cell_type": "code",
   "execution_count": 42,
   "metadata": {},
   "outputs": [
    {
     "name": "stdout",
     "output_type": "stream",
     "text": [
      "What is your name?Ivan\n",
      "Nice to meet you Ivan\n",
      "Nice to meet youIvan\n",
      "What is your age? :78\n",
      "83\n",
      "What is your age? :78\n",
      "83\n"
     ]
    }
   ],
   "source": [
    "# input will always return a string\n",
    "\n",
    "name = input(\"What is your name?\")\n",
    "print(\"Nice to meet you\", name)\n",
    "print(\"Nice to meet you\" + name)\n",
    "\n",
    "age = input(\"What is your age? :\")\n",
    "add_age = int(age) + 5\n",
    "print(add_age)\n",
    "\n",
    "age = int(input(\"What is your age? :\"))\n",
    "add_age = age + 5\n",
    "print(add_age)"
   ]
  },
  {
   "cell_type": "markdown",
   "metadata": {},
   "source": [
    "##### format()"
   ]
  },
  {
   "cell_type": "code",
   "execution_count": 44,
   "metadata": {},
   "outputs": [
    {
     "name": "stdout",
     "output_type": "stream",
     "text": [
      "What is your age ? 22\n",
      "You are 22 Ivan and you are getting wiser\n",
      "22 is a great time in life!!\n"
     ]
    }
   ],
   "source": [
    "age = input(\"What is your age ? \")\n",
    "\n",
    "# Different ways to format printing\n",
    "\n",
    "result_string = \"You are {} {} and you are getting wiser\". format(age, name)\n",
    "print(result_string)\n",
    "\n",
    "result_again = f\"{age} is a great time in life!!\"\n",
    "print(result_again)"
   ]
  },
  {
   "cell_type": "markdown",
   "metadata": {},
   "source": [
    "##### Old Way (python 2)"
   ]
  },
  {
   "cell_type": "code",
   "execution_count": 46,
   "metadata": {},
   "outputs": [
    {
     "name": "stdout",
     "output_type": "stream",
     "text": [
      "YOu are 22 and you look great for you age!\n"
     ]
    }
   ],
   "source": [
    "result_string2 = \"YOu are %s and you look great for you age!\" %age\n",
    "print(result_string2)"
   ]
  },
  {
   "cell_type": "markdown",
   "metadata": {},
   "source": [
    "# In-Class Exercise 1 <br>\n",
    "<p>Create a format statement that asks for color, year, make, model and prints out the results</p>"
   ]
  },
  {
   "cell_type": "code",
   "execution_count": 50,
   "metadata": {},
   "outputs": [
    {
     "name": "stdout",
     "output_type": "stream",
     "text": [
      "What your color of choice ? Black\n",
      "What year woudl you like your car to be ?2022\n",
      "What make is your favorite ?LAxus\n",
      "And finally, what model is the one you like the most ?RX350\n",
      "Your dream car is a Black, 2022, LAxus RX350 . Thats a great choice!\n",
      "Your dream car is a Black, 2022, LAxus RX350\n"
     ]
    }
   ],
   "source": [
    "color = input(\"What your color of choice ? \")\n",
    "year = input(\"What year woudl you like your car to be ?\")\n",
    "make = input(\"What make is your favorite ?\")\n",
    "model = input(\"And finally, what model is the one you like the most ?\")\n",
    "\n",
    "result = f\"Your dream car is a {color}, {year}, {make} {model} . Thats a great choice!\"\n",
    "print(result)\n",
    "# 2 differnet ways to print a result\n",
    "\n",
    "result = \"Your dream car is a {}, {}, {} {}\". format(color, year, make, model) \n",
    "print(result)"
   ]
  },
  {
   "cell_type": "markdown",
   "metadata": {},
   "source": [
    "### If Statements"
   ]
  },
  {
   "cell_type": "code",
   "execution_count": 61,
   "metadata": {},
   "outputs": [
    {
     "name": "stdout",
     "output_type": "stream",
     "text": [
      "That thing was not true. It is False\n",
      "Not equal\n",
      "Num1 is greater\n"
     ]
    }
   ],
   "source": [
    "# Available operators: Greater(>), Less(<),Equal(==)\n",
    "# Greater or Equal(>=), Less or Equal (<=)\n",
    "\n",
    "# Truth Tree:\n",
    "# T && F = F\n",
    "# T && T = T\n",
    "# T || F = T\n",
    "# F || T = T\n",
    "# F || F = F\n",
    "\n",
    "num1 = 5\n",
    "\n",
    "if num1 == 6:\n",
    "    print('This is true')\n",
    "else:\n",
    "    print('That thing was not true. It is False')\n",
    "    \n",
    "    \n",
    "num1 = 24\n",
    "num2 = 12\n",
    "\n",
    "if num1 == num2:\n",
    "    print('Both numbers ar equal')\n",
    "else:\n",
    "    print('Not equal')\n",
    "    \n",
    "\n",
    "if num2 > num1:\n",
    "    print('Num2 is greater')\n",
    "elif num2 < num1:\n",
    "    print('Num1 is greater')\n",
    "else:\n",
    "    print('Equal values')\n",
    "    "
   ]
  },
  {
   "cell_type": "markdown",
   "metadata": {},
   "source": [
    "##### 'is' keyword"
   ]
  },
  {
   "cell_type": "code",
   "execution_count": null,
   "metadata": {
    "scrolled": true
   },
   "outputs": [],
   "source": []
  },
  {
   "cell_type": "markdown",
   "metadata": {},
   "source": [
    "##### 'in' keyword"
   ]
  },
  {
   "cell_type": "code",
   "execution_count": 63,
   "metadata": {},
   "outputs": [
    {
     "name": "stdout",
     "output_type": "stream",
     "text": [
      "The word is not in the string\n"
     ]
    }
   ],
   "source": [
    "# Check if a character is in a string\n",
    "\n",
    "char_name = 'Frodo Baggina'\n",
    "\n",
    "if 'Frodo' in char_name:\n",
    "    print('The word is in the string')\n",
    "else:\n",
    "    print('The word is not in the string')"
   ]
  },
  {
   "cell_type": "markdown",
   "metadata": {},
   "source": [
    "##### 'not in' keyword'"
   ]
  },
  {
   "cell_type": "code",
   "execution_count": 66,
   "metadata": {},
   "outputs": [
    {
     "name": "stdout",
     "output_type": "stream",
     "text": [
      "We found it!\n",
      "letter \"a\" in not in the string\n"
     ]
    }
   ],
   "source": [
    "sega_char = 'Sonica'\n",
    "\n",
    "if 'a' not in sega_char:\n",
    "    print('letter \"a\" in not in the string')\n",
    "else:\n",
    "    print('We found it!')\n",
    "    \n",
    "sega_char = 'Sonic'\n",
    "\n",
    "if 'a' not in sega_char:\n",
    "    print('letter \"a\" in not in the string')\n",
    "else:\n",
    "    print('We found it!')"
   ]
  },
  {
   "cell_type": "markdown",
   "metadata": {},
   "source": [
    "# In-Class Exercise 2 <br>\n",
    "<p>Ask user for input, check to see if the letter 'p' is in the input</p>"
   ]
  },
  {
   "cell_type": "code",
   "execution_count": 77,
   "metadata": {},
   "outputs": [
    {
     "name": "stdout",
     "output_type": "stream",
     "text": [
      "Please enter any word. We are going to check if the letter \"P\" is in it > n\n",
      "Try another word\n"
     ]
    }
   ],
   "source": [
    "# Output : True -- if 'p' is found\n",
    "# False -- if 'p' is not found\n",
    "\n",
    "user_input = input('Please enter any word. We are going to check if the letter \"P\" is in it > ')\n",
    "\n",
    "if 'p' in user_input:\n",
    "    print('We found it!')\n",
    "else:\n",
    "    print('Try another word')\n",
    "\n",
    "                   "
   ]
  },
  {
   "cell_type": "markdown",
   "metadata": {},
   "source": [
    "## Using 'and'/'or' with If Statements"
   ]
  },
  {
   "cell_type": "code",
   "execution_count": 81,
   "metadata": {},
   "outputs": [
    {
     "name": "stdout",
     "output_type": "stream",
     "text": [
      "Both statements are \"True\" and \"True\"\n",
      "False and True equals \"True\" on a F \"OR\" T\n"
     ]
    }
   ],
   "source": [
    "num_11 = 15\n",
    "num_12 = 3\n",
    "num_13 = 33\n",
    "num_14 = 42\n",
    "\n",
    "# if with an 'and' statment\n",
    "if num_11 / 5 == num_12 and num_13 + 9 == num_14:\n",
    "    print('Both statements are \"True\" and \"True\"')\n",
    "    \n",
    "# if statement and an 'or' statement\n",
    "if num_13 == num_14 or num_11 > num_12:\n",
    "    print('False and True equals \"True\" on a F \"OR\" T')\n",
    "    "
   ]
  },
  {
   "cell_type": "markdown",
   "metadata": {},
   "source": [
    "### Elif Statements"
   ]
  },
  {
   "cell_type": "code",
   "execution_count": 84,
   "metadata": {},
   "outputs": [
    {
     "name": "stdout",
     "output_type": "stream",
     "text": [
      "What is your name ? Max\n",
      "The name is Max.\n"
     ]
    }
   ],
   "source": [
    "first_name = input('What is your name ? ')\n",
    "\n",
    "if first_name == 'Smith':\n",
    "    print('The name is Smith.')\n",
    "elif first_name == 'Brandon':\n",
    "    print('The name is Brandon')\n",
    "elif first_name != 'Max':\n",
    "    print('The name is not Max.')\n",
    "else:\n",
    "    print('The name is Max.')\n",
    "\n",
    "### Else Statements"
   ]
  },
  {
   "cell_type": "code",
   "execution_count": null,
   "metadata": {},
   "outputs": [],
   "source": [
    "# see above"
   ]
  },
  {
   "cell_type": "markdown",
   "metadata": {},
   "source": [
    "### For Loops"
   ]
  },
  {
   "cell_type": "code",
   "execution_count": 91,
   "metadata": {},
   "outputs": [
    {
     "name": "stdout",
     "output_type": "stream",
     "text": [
      "Ivan Angulo\n",
      "I\n",
      "v\n",
      "a\n",
      "n\n",
      " \n",
      "A\n",
      "n\n",
      "g\n",
      "u\n",
      "l\n",
      "o\n",
      "[5, 6, 7, 8]\n",
      "5\n",
      "6\n",
      "6\n",
      "7\n",
      "7\n",
      "8\n",
      "8\n",
      "9\n",
      "1\n",
      "2\n",
      "3\n",
      "4\n",
      "5\n"
     ]
    }
   ],
   "source": [
    "# Syntax\n",
    "# for counter in condition\n",
    "\n",
    "name = 'Ivan Angulo'\n",
    "print(name)\n",
    "\n",
    "for letter in name:\n",
    "    print(letter)\n",
    "    \n",
    "name2 = [5, 6, 7, 8]\n",
    "print(name2)\n",
    "\n",
    "for letter in name2:\n",
    "    print(letter)\n",
    "    print(letter + 1)\n",
    "    \n",
    "# You can add numbers to 'strings'\n",
    "\n",
    "a_list = [1, 2, 3, 4, 5]\n",
    "\n",
    "for i in a_list:\n",
    "    print(i)"
   ]
  },
  {
   "cell_type": "markdown",
   "metadata": {},
   "source": [
    "##### Using 'in' keyword"
   ]
  },
  {
   "cell_type": "code",
   "execution_count": null,
   "metadata": {},
   "outputs": [],
   "source": [
    "# see above"
   ]
  },
  {
   "cell_type": "markdown",
   "metadata": {},
   "source": [
    "##### Continue Statement"
   ]
  },
  {
   "cell_type": "code",
   "execution_count": null,
   "metadata": {},
   "outputs": [],
   "source": [
    "# will continue to next iteration"
   ]
  },
  {
   "cell_type": "code",
   "execution_count": 98,
   "metadata": {},
   "outputs": [
    {
     "name": "stdout",
     "output_type": "stream",
     "text": [
      "0\n",
      "1\n",
      "2\n",
      "3\n",
      "4\n",
      "5\n",
      "6\n",
      "7\n",
      "8\n",
      "9\n",
      "10\n",
      "11\n",
      "12\n",
      "13\n",
      "14\n",
      "15\n",
      "16\n",
      "17\n",
      "18\n",
      "19\n",
      "0\n",
      "1\n",
      "2\n",
      "3\n",
      "4\n",
      "6\n",
      "7\n",
      "8\n",
      "9\n",
      "10\n",
      "11\n",
      "12\n",
      "13\n",
      "14\n",
      "15\n",
      "16\n",
      "17\n",
      "18\n",
      "19\n",
      "I\n",
      "v\n",
      "a\n",
      "n\n",
      " \n",
      "A\n",
      "n\n",
      "g\n",
      "u\n",
      "l\n",
      "o\n",
      "I\n",
      "v\n",
      "a\n",
      " \n",
      "A\n",
      "g\n",
      "u\n",
      "l\n",
      "o\n"
     ]
    }
   ],
   "source": [
    "for i in range(20):\n",
    "    print(i)\n",
    "    \n",
    "for i in range(20):\n",
    "    if i == 5:\n",
    "        continue\n",
    "    print(i)\n",
    "# Notice below that on the second list, the list skipped the number #5\n",
    "#  Another exmple below with a string\n",
    "\n",
    "name = 'Ivan Angulo'\n",
    "\n",
    "for i in name:\n",
    "    print(i)\n",
    "    \n",
    "# Now we incorporate the 'continue' statement\n",
    "\n",
    "for i in name:\n",
    "    if i == 'n':\n",
    "        continue\n",
    "    print(i)\n"
   ]
  },
  {
   "cell_type": "markdown",
   "metadata": {},
   "source": [
    "##### Break Statement"
   ]
  },
  {
   "cell_type": "code",
   "execution_count": null,
   "metadata": {},
   "outputs": [],
   "source": [
    "# will break out of current loop"
   ]
  },
  {
   "cell_type": "code",
   "execution_count": 100,
   "metadata": {},
   "outputs": [
    {
     "name": "stdout",
     "output_type": "stream",
     "text": [
      "0\n",
      "1\n",
      "2\n",
      "3\n",
      "4\n",
      "5\n",
      "6\n",
      "7\n",
      "8\n",
      "9\n",
      "0\n",
      "1\n",
      "2\n",
      "3\n",
      "4\n"
     ]
    }
   ],
   "source": [
    "for i in range(10):\n",
    "    print(i)\n",
    "\n",
    "# Now we incorporate the 'break' statement\n",
    "\n",
    "for i in range(10):\n",
    "    if i == 5:\n",
    "        break\n",
    "    print(i)"
   ]
  },
  {
   "cell_type": "markdown",
   "metadata": {},
   "source": [
    "##### Pass Statement"
   ]
  },
  {
   "cell_type": "code",
   "execution_count": null,
   "metadata": {},
   "outputs": [],
   "source": [
    "# mostly used as a placeholder, and will continue on same iteration"
   ]
  },
  {
   "cell_type": "code",
   "execution_count": 101,
   "metadata": {},
   "outputs": [
    {
     "name": "stdout",
     "output_type": "stream",
     "text": [
      "I\n",
      "v\n",
      "a\n",
      "n\n",
      " \n",
      "A\n",
      "n\n",
      "g\n",
      "u\n",
      "l\n",
      "o\n"
     ]
    }
   ],
   "source": [
    "name = 'Ivan Angulo'\n",
    "\n",
    "for i in name:\n",
    "    pass\n",
    "    print(i)\n",
    "    \n",
    "#     the 'pass' statment really just ignores the previous statment and continues to the next statemnt"
   ]
  },
  {
   "cell_type": "markdown",
   "metadata": {},
   "source": [
    "##### Double For Loops"
   ]
  },
  {
   "cell_type": "code",
   "execution_count": 109,
   "metadata": {},
   "outputs": [
    {
     "name": "stdout",
     "output_type": "stream",
     "text": [
      "i=  0 j=  0\n",
      "i=  0 j=  1\n",
      "i=  0 j=  2\n",
      "i=  0 j=  3\n",
      "i=  0 j=  4\n",
      "\n",
      "\n",
      "LArger double loop below divided by a space per each iteration of the outer for loop\n",
      "i=  0 j=  0\n",
      "i=  0 j=  1\n",
      "i=  0 j=  2\n",
      "i=  0 j=  3\n",
      "i=  0 j=  4\n",
      "\n",
      "i=  1 j=  0\n",
      "i=  1 j=  1\n",
      "i=  1 j=  2\n",
      "i=  1 j=  3\n",
      "i=  1 j=  4\n",
      "\n",
      "i=  2 j=  0\n",
      "i=  2 j=  1\n",
      "i=  2 j=  2\n",
      "i=  2 j=  3\n",
      "i=  2 j=  4\n",
      "\n",
      "i=  3 j=  0\n",
      "i=  3 j=  1\n",
      "i=  3 j=  2\n",
      "i=  3 j=  3\n",
      "i=  3 j=  4\n",
      "\n",
      "i=  4 j=  0\n",
      "i=  4 j=  1\n",
      "i=  4 j=  2\n",
      "i=  4 j=  3\n",
      "i=  4 j=  4\n",
      "\n"
     ]
    }
   ],
   "source": [
    "for i in range(1):\n",
    "    for j in range(5):\n",
    "        print('i= ', i, 'j= ', j)\n",
    "        \n",
    "# In the example above we can see that the inner loop runs over the 5 iterations '(range(5))' for every one time \n",
    "# until the last iteration inthe outer (range()) statement. Down is a larger double 'for' loop\n",
    "print('')\n",
    "print('')\n",
    "print('LArger double loop below divided by a space per each iteration of the outer for loop')\n",
    "\n",
    "for i in range(5):\n",
    "    for j in range(5):\n",
    "        print('i= ', i, 'j= ', j)\n",
    "    print('')"
   ]
  },
  {
   "cell_type": "markdown",
   "metadata": {},
   "source": [
    "### While Loops"
   ]
  },
  {
   "cell_type": "code",
   "execution_count": 110,
   "metadata": {},
   "outputs": [
    {
     "name": "stdout",
     "output_type": "stream",
     "text": [
      "0\n",
      "1\n",
      "2\n",
      "3\n",
      "4\n",
      "5\n",
      "6\n",
      "7\n",
      "8\n",
      "9\n"
     ]
    }
   ],
   "source": [
    "# Syntax\n",
    "# 'while' keyword, condition statement\n",
    "\n",
    "num = 0\n",
    "\n",
    "while num < 10:\n",
    "    print(num)\n",
    "    num += 1"
   ]
  },
  {
   "cell_type": "markdown",
   "metadata": {},
   "source": [
    "##### Looping 'While True'"
   ]
  },
  {
   "cell_type": "code",
   "execution_count": 112,
   "metadata": {},
   "outputs": [
    {
     "name": "stdout",
     "output_type": "stream",
     "text": [
      "Infinite loop if there is no way to change the value of \"game over\" to False\n",
      "Would you like to continue ?no\n",
      "Infinite loop if there is no way to change the value of \"game over\" to False\n",
      "Would you like to continue ?no\n",
      "Infinite loop if there is no way to change the value of \"game over\" to False\n",
      "Would you like to continue ?no\n",
      "Infinite loop if there is no way to change the value of \"game over\" to False\n",
      "Would you like to continue ?no\n",
      "Infinite loop if there is no way to change the value of \"game over\" to False\n",
      "Would you like to continue ?yes\n"
     ]
    }
   ],
   "source": [
    "game_over = True  # Flag\n",
    "\n",
    "while game_over:\n",
    "    print('Infinite loop if there is no way to change the value of \"game over\" to False')\n",
    "    user_input = input('Would you like to stop ?')\n",
    "    if user_input == 'yes':\n",
    "#         you can use 'break' or ...\n",
    "        game_over = False\n",
    "\n"
   ]
  },
  {
   "cell_type": "markdown",
   "metadata": {},
   "source": [
    "##### While & For Loops Used Together"
   ]
  },
  {
   "cell_type": "code",
   "execution_count": 116,
   "metadata": {},
   "outputs": [
    {
     "name": "stdout",
     "output_type": "stream",
     "text": [
      "\n",
      "Iteration of the \"while\" loop # :0\n",
      "Iteration of the \"for-loop\" # : 0\n",
      "Iteration of the \"for-loop\" # : 1\n",
      "\n",
      "Iteration of the \"while\" loop # :1\n",
      "Iteration of the \"for-loop\" # : 0\n",
      "Iteration of the \"for-loop\" # : 1\n",
      "\n",
      "Iteration of the \"while\" loop # :2\n",
      "Iteration of the \"for-loop\" # : 0\n",
      "Iteration of the \"for-loop\" # : 1\n",
      "\n",
      "Iteration of the \"while\" loop # :3\n",
      "Iteration of the \"for-loop\" # : 0\n",
      "Iteration of the \"for-loop\" # : 1\n",
      "\n",
      "Iteration of the \"while\" loop # :4\n",
      "Iteration of the \"for-loop\" # : 0\n",
      "Iteration of the \"for-loop\" # : 1\n"
     ]
    }
   ],
   "source": [
    "num = 0 \n",
    "\n",
    "while num < 5:\n",
    "    print('\\nIteration of the \"while\" loop # :' + str(num))\n",
    "    for i in range(2):\n",
    "        print('Iteration of the \"for-loop\" # :',i)\n",
    "    num += 1"
   ]
  },
  {
   "cell_type": "markdown",
   "metadata": {},
   "source": [
    "### Built-In Functions"
   ]
  },
  {
   "cell_type": "markdown",
   "metadata": {},
   "source": [
    "##### range()"
   ]
  },
  {
   "cell_type": "code",
   "execution_count": 121,
   "metadata": {},
   "outputs": [
    {
     "name": "stdout",
     "output_type": "stream",
     "text": [
      "0\n",
      "1\n",
      "2\n",
      "3\n",
      "4\n",
      "5\n",
      "6\n",
      "7\n",
      "8\n",
      "9\n",
      "10\n",
      "11\n",
      "12\n",
      "13\n",
      "14\n",
      "15\n",
      "16\n",
      "17\n",
      "18\n",
      "19\n",
      "\n",
      "\n",
      "2\n",
      "3\n",
      "4\n",
      "5\n",
      "6\n",
      "7\n",
      "8\n",
      "9\n",
      "10\n",
      "11\n",
      "12\n",
      "13\n",
      "14\n",
      "15\n",
      "16\n",
      "17\n",
      "18\n",
      "19\n",
      "\n",
      "\n",
      "2\n",
      "4\n",
      "6\n",
      "8\n",
      "10\n",
      "12\n",
      "14\n",
      "16\n",
      "18\n"
     ]
    }
   ],
   "source": [
    "# range(start, stop, step)\n",
    "\n",
    "for i in range(20):\n",
    "    print(i)\n",
    "print('\\n')\n",
    "# Defaults from 0 and stops before the limit of the range . non-inclusive of '20' in this case\n",
    "\n",
    "for i in range(2, 20):\n",
    "    print(i)\n",
    "print('\\n')\n",
    "\n",
    "# prints starting at '2'\n",
    "\n",
    "for i in range(2, 20, 2): #Doing the count starting at '2' upt ot '20' and stepping by '2' every time\n",
    "    print(i)\n",
    "print('\\n')"
   ]
  },
  {
   "cell_type": "markdown",
   "metadata": {},
   "source": [
    "##### len()"
   ]
  },
  {
   "cell_type": "code",
   "execution_count": 122,
   "metadata": {},
   "outputs": [
    {
     "name": "stdout",
     "output_type": "stream",
     "text": [
      "3\n",
      "\n",
      "\n",
      "What is the name of your favorite book ?Lord of the Rings\n",
      "17\n",
      "\n",
      "\n"
     ]
    }
   ],
   "source": [
    "name = 'Max'\n",
    "\n",
    "length = len(name)\n",
    "print(length) #Very simple example of what the function does. \n",
    "\n",
    "print('\\n')\n",
    "\n",
    "name = input('What is the name of your favorite book ?')\n",
    "length = len(name)\n",
    "\n",
    "print(length)\n",
    "\n",
    "print('\\n')\n",
    "\n",
    "\n"
   ]
  },
  {
   "cell_type": "markdown",
   "metadata": {},
   "source": [
    "##### help()"
   ]
  },
  {
   "cell_type": "code",
   "execution_count": 124,
   "metadata": {},
   "outputs": [
    {
     "name": "stdout",
     "output_type": "stream",
     "text": [
      "Help on built-in function len in module builtins:\n",
      "\n",
      "len(obj, /)\n",
      "    Return the number of items in a container.\n",
      "\n"
     ]
    }
   ],
   "source": [
    "# Use this function to view more info about a python function\n",
    "\n",
    "help(len)"
   ]
  },
  {
   "cell_type": "markdown",
   "metadata": {},
   "source": [
    "##### isinstance()"
   ]
  },
  {
   "cell_type": "code",
   "execution_count": 131,
   "metadata": {},
   "outputs": [
    {
     "name": "stdout",
     "output_type": "stream",
     "text": [
      "False\n",
      "This number is a FLOAT type\n",
      "\n",
      "\n",
      "4 is an integer\n",
      "\n",
      "\n",
      "5.3 is a float!\n"
     ]
    }
   ],
   "source": [
    "# Check a variable to find out what an object family (or data type) it belongs to\n",
    "# isinstance(var, type)\n",
    "\n",
    "   #We are trying to find out if the value '4.5' is an 'int' (Answer is T or F)\n",
    "\n",
    "if isinstance(4.5, float):\n",
    "    print('This number is a FLOAT type')\n",
    "\n",
    "print('\\n')\n",
    "\n",
    "# Another example with input from user\n",
    "\n",
    "num = 4\n",
    "\n",
    "if isinstance(num, int):\n",
    "    print(f'{num} is an integer')\n",
    "else:\n",
    "    print(f'{num} is a float')\n",
    "\n",
    "print('\\n')\n",
    "\n",
    "num2 = 5.3\n",
    "\n",
    "if isinstance(num2, int):\n",
    "    print(f'{num2} is an intger')\n",
    "else:\n",
    "    print(f'{num2} is a float!')"
   ]
  },
  {
   "cell_type": "markdown",
   "metadata": {},
   "source": [
    "##### abs()"
   ]
  },
  {
   "cell_type": "code",
   "execution_count": 132,
   "metadata": {},
   "outputs": [
    {
     "name": "stdout",
     "output_type": "stream",
     "text": [
      "5\n"
     ]
    }
   ],
   "source": [
    "# As in math, this is used to use the absolute value of any number\n",
    "\n",
    "# Syntax : \n",
    "# |-5| = 5\n",
    "\n",
    "print(abs(-5))"
   ]
  },
  {
   "cell_type": "markdown",
   "metadata": {},
   "source": [
    "### Try and Except"
   ]
  },
  {
   "cell_type": "code",
   "execution_count": 1,
   "metadata": {},
   "outputs": [
    {
     "name": "stdout",
     "output_type": "stream",
     "text": [
      "Guess a number  f\n",
      "That didnt work! Change your input to a number\n"
     ]
    }
   ],
   "source": [
    "# Use this to log out graceful and useful error messages\n",
    "# Does not stop the program! Neato!\n",
    "\n",
    "try:\n",
    "    number_test = 0\n",
    "    input_num = int(input('Guess a number  '))\n",
    "    print('your number is : ', str(input_num))\n",
    "except:\n",
    "    print('That didnt work! Change your input to a number') #Try running it by entering anything but a number"
   ]
  },
  {
   "cell_type": "markdown",
   "metadata": {},
   "source": [
    "### Lists"
   ]
  },
  {
   "cell_type": "markdown",
   "metadata": {},
   "source": [
    "##### Declaring Lists"
   ]
  },
  {
   "cell_type": "code",
   "execution_count": 138,
   "metadata": {},
   "outputs": [
    {
     "name": "stdout",
     "output_type": "stream",
     "text": [
      "['Max', 'Cindy', 'Ksthy', 'Bob', 'Nate']\n",
      "True\n"
     ]
    }
   ],
   "source": [
    "list_1 = []\n",
    "\n",
    "names = ['Max', 'Cindy', 'Ksthy', 'Bob', 'Nate']\n",
    "print(names)\n",
    "print(isinstance(names, list))"
   ]
  },
  {
   "cell_type": "markdown",
   "metadata": {},
   "source": [
    "##### Indexing a List"
   ]
  },
  {
   "cell_type": "code",
   "execution_count": 145,
   "metadata": {},
   "outputs": [
    {
     "name": "stdout",
     "output_type": "stream",
     "text": [
      "Cindy\n",
      "['Cindy', 'Ksthy', 'Bob', 'Nate']\n",
      "['Max', 'Cindy']\n",
      "['Cindy', 'Bob']\n",
      "['Nate', 'Bob', 'Ksthy', 'Cindy', 'Max']\n"
     ]
    }
   ],
   "source": [
    "# list_name[start: stop: step]\n",
    "\n",
    "# Single Index\n",
    "print(names[1])\n",
    "\n",
    "# Print starting at index 1 going to the end\n",
    "print(names[1:])\n",
    "\n",
    "# Print starting at the beggining of the list up until a specific number\n",
    "print(names[:2]) #the 'stop' parameter is non-inclusive\n",
    "\n",
    "# Print starting at index 1 and going up BY 2 in each iteration\n",
    "print(names[1::2])\n",
    "\n",
    "# Print starting at the back and display in reversed order\n",
    "print(names[::-1])"
   ]
  },
  {
   "cell_type": "markdown",
   "metadata": {},
   "source": [
    "##### .append()"
   ]
  },
  {
   "cell_type": "code",
   "execution_count": 146,
   "metadata": {},
   "outputs": [
    {
     "name": "stdout",
     "output_type": "stream",
     "text": [
      "['Max', 'Cindy', 'Ksthy', 'Bob', 'Nate', 'Ivan']\n"
     ]
    }
   ],
   "source": [
    "# Syntax :  \n",
    "# list_name.append()\n",
    "# this function WILL ALWAYS add the object to the very end of the list\n",
    "\n",
    "names.append('Ivan')\n",
    "print(names)"
   ]
  },
  {
   "cell_type": "markdown",
   "metadata": {},
   "source": [
    "##### .insert()"
   ]
  },
  {
   "cell_type": "code",
   "execution_count": 149,
   "metadata": {},
   "outputs": [
    {
     "name": "stdout",
     "output_type": "stream",
     "text": [
      "['Max', 'Cindy', 'Ksthy', 'Bob', 'Nate', 'Ivan']\n",
      "['Max', 'Cindy', 'Ksthy', 'Brandon', 'Bob', 'Nate', 'Ivan']\n"
     ]
    }
   ],
   "source": [
    "# Syntax\n",
    "# list_names.insert(index_place, 'object')\n",
    "# This function will allow you to add the object at the specified pplace or 'index' desired in your list\n",
    "\n",
    "names = ['Max', 'Cindy', 'Ksthy', 'Bob', 'Nate', 'Ivan']\n",
    "print(names)\n",
    "\n",
    "names.insert(3, 'Brandon')  #the object is being inserted at index 3 in our list\n",
    "print(names)"
   ]
  },
  {
   "cell_type": "markdown",
   "metadata": {},
   "source": [
    "##### .pop()"
   ]
  },
  {
   "cell_type": "code",
   "execution_count": 150,
   "metadata": {},
   "outputs": [
    {
     "name": "stdout",
     "output_type": "stream",
     "text": [
      "['Max', 'Cindy', 'Ksthy', 'Brandon', 'Bob', 'Nate', 'Ivan']\n",
      "Ksthy\n",
      "['Max', 'Cindy', 'Brandon', 'Bob', 'Nate', 'Ivan']\n"
     ]
    }
   ],
   "source": [
    "# Defaults to the last value if no parameter was provided\n",
    "# POP returns the element that was removed in case you want to assign it to a variable\n",
    "\n",
    "# Original list\n",
    "print(names)\n",
    "\n",
    "my_name = names.pop(2) #In this case we are going to remove the object in index 2 'Ksthy'\n",
    "print(my_name)\n",
    "print(names)\n",
    "\n",
    "# If we keepp running the code , the objects that fall into 'index 2' will keep desapearing "
   ]
  },
  {
   "cell_type": "markdown",
   "metadata": {},
   "source": [
    "\n",
    "##### .remove()"
   ]
  },
  {
   "cell_type": "code",
   "execution_count": 155,
   "metadata": {},
   "outputs": [
    {
     "name": "stdout",
     "output_type": "stream",
     "text": [
      "['Max', 'Cindy', 'Ksthy', 'Brandon', 'Bob', 'Nate', 'Ivan', 'Brandon', 'Brandon']\n",
      "['Max', 'Cindy', 'Ksthy', 'Brandon', 'Nate', 'Ivan', 'Brandon', 'Brandon']\n",
      "['Max', 'Cindy', 'Ksthy', 'Nate', 'Ivan']\n"
     ]
    }
   ],
   "source": [
    "# Syntax :\n",
    "# list_name.remove('object')\n",
    "# Value to be removed rather than the item in a specific index as in pop\n",
    "\n",
    "names = ['Max', 'Cindy', 'Ksthy', 'Brandon', 'Bob', 'Nate', 'Ivan', 'Brandon', 'Brandon']\n",
    "print(names)\n",
    "\n",
    "names.remove('Bob')\n",
    "print(names)\n",
    "\n",
    "# If we run the code again , we will get an error since the object was already removed\n",
    "\n",
    "# To REMOVE MULTIPLE objects that are equal possibly in a list\n",
    "\n",
    "while 'Brandon' in names:\n",
    "    names.remove('Brandon')\n",
    "\n",
    "print(names)"
   ]
  },
  {
   "cell_type": "markdown",
   "metadata": {},
   "source": [
    "##### del()"
   ]
  },
  {
   "cell_type": "code",
   "execution_count": 156,
   "metadata": {},
   "outputs": [
    {
     "name": "stdout",
     "output_type": "stream",
     "text": [
      "['Max', 'Cindy', 'Ksthy', 'Nate', 'Ivan']\n",
      "['Max', 'Ksthy', 'Nate', 'Ivan']\n"
     ]
    }
   ],
   "source": [
    "# Goes by Index, rather than value\n",
    "# Be careful with del, it can cause indexing errors if not used carfully \n",
    "\n",
    "print(names)\n",
    "del(names[1])\n",
    "print(names)\n"
   ]
  },
  {
   "cell_type": "markdown",
   "metadata": {},
   "source": [
    "##### Concatenating Two Lists"
   ]
  },
  {
   "cell_type": "code",
   "execution_count": 5,
   "metadata": {},
   "outputs": [
    {
     "name": "stdout",
     "output_type": "stream",
     "text": [
      "[0, 1, 2, 3, 4, 5]\n"
     ]
    }
   ],
   "source": [
    "# Will append two lists together, but will NOT add the values\n",
    "\n",
    "list_2 = [0, 1, 2]\n",
    "list_3 = [3, 4, 5]\n",
    "\n",
    "large_list = list_2 + list_3\n",
    "\n",
    "print(large_list)"
   ]
  },
  {
   "cell_type": "markdown",
   "metadata": {},
   "source": [
    "##### Lists Within Lists"
   ]
  },
  {
   "cell_type": "code",
   "execution_count": 7,
   "metadata": {},
   "outputs": [
    {
     "name": "stdout",
     "output_type": "stream",
     "text": [
      "['Max', 'sam', 'Josh', ['Sally', 'Sue', 'Tameka']]\n",
      "['Sally', 'Sue', 'Tameka']\n",
      "Sue\n",
      "Ivan\n"
     ]
    }
   ],
   "source": [
    "# Lists can hold ANY type of other elements, INCLUDING other lists!\n",
    "# They can go as deep as you want; this is called nested lists\n",
    "\n",
    "names = ['Max', 'sam', 'Josh', ['Sally', 'Sue', 'Tameka']] #the nested list is located and identified as the object\n",
    "                                                #in index position '3'\n",
    "print(names)\n",
    "print(names[3]) #We are printing the 'object' located in position index #3\n",
    "\n",
    "# Now to print one 'object' , in this casae we are looking for 'Sue', form the secondary nested list located in \n",
    "# position #3 in the index of the original list 'names', we add as a parameter the index location of the nested\n",
    "# list inside the parent list (3) , and then in a secondary braket we identify the position of the specific object\n",
    "# inside the child list, which would be '1' for 'Sue' . names[3][1]\n",
    "\n",
    "print(names[3][1])\n",
    "\n",
    "# If we had an even deeper list nested inside the nested list in the original list names, we just add the third \n",
    "# parameter. In this case we are looking for 'Ivan'\n",
    "\n",
    "names = ['Max', 'sam', 'Josh', ['Sally', 'Sue', ['john', 'Patrick', 'Ivan']],'Tameka']\n",
    "\n",
    "print(names[3][2][2])\n",
    "\n",
    "# You can add as many parameters as necessary and as deep as you need to go"
   ]
  },
  {
   "cell_type": "markdown",
   "metadata": {},
   "source": [
    "##### Looping Through Lists"
   ]
  },
  {
   "cell_type": "code",
   "execution_count": 8,
   "metadata": {},
   "outputs": [
    {
     "name": "stdout",
     "output_type": "stream",
     "text": [
      "5\n",
      "Index position in \"names\" list : 0 Object ->  Max\n",
      "Index position in \"names\" list : 1 Object ->  sam\n",
      "Index position in \"names\" list : 2 Object ->  Josh\n",
      "Index position in \"names\" list : 3 Object ->  ['Sally', 'Sue', ['john', 'Patrick', 'Ivan']]\n",
      "Index position in \"names\" list : 4 Object ->  Tameka\n",
      "\n",
      "\n",
      "Max\n",
      "sam\n",
      "Josh\n",
      "['Sally', 'Sue', ['john', 'Patrick', 'Ivan']]\n",
      "Tameka\n",
      "\n",
      "\n"
     ]
    }
   ],
   "source": [
    "# Two ways to loop through a list! One is by index; the other is by using the 'in' word\n",
    "\n",
    "# By index\n",
    "\n",
    "print(len(names)) #This will print the length of the original list and counting each nested \n",
    "                  # list as an object inside their respective original index. \n",
    "                  # Max = 0, sam = 1, Josh = 2, ['Sally', 'Sue', ['john', 'Patrick', 'Ivan'] = 3, Tameka = 4\n",
    "                  # ['Sally', 'Sue', ['john', 'Patrick', 'Ivan'] are all part of position 3 in the index of the\n",
    "                  # list 'names'. The result should be '5' elements or objects\n",
    "\n",
    "for i in range(len(names)):\n",
    "    print('Index position in \"names\" list :', i, 'Object -> ', names[i])\n",
    "    \n",
    "\n",
    "print('\\n')\n",
    "#     Second way to do it ....\n",
    "# Loop with the word or function 'in'\n",
    "\n",
    "for i in names:\n",
    "    print(i)\n",
    "    \n",
    "print('\\n')\n",
    "\n",
    "\n",
    "    "
   ]
  },
  {
   "cell_type": "markdown",
   "metadata": {},
   "source": [
    "## Exercise #1 <br>\n",
    "<p>Cube Number Test... Print out all cubed numbers up to the total value 1000. Meaning that if the cubed number is over 1000 break the loop.</p>"
   ]
  },
  {
   "cell_type": "code",
   "execution_count": 12,
   "metadata": {},
   "outputs": [
    {
     "name": "stdout",
     "output_type": "stream",
     "text": [
      "Please enter a number -->4\n",
      "4\n",
      "16\n",
      "256\n"
     ]
    }
   ],
   "source": [
    "\n",
    "import math\n\n",
    "i = 1\n",
    "x = 1\n",
    "while x < 1000:\n",
    "    x = i ** 3\n",
    "    print(x)\n",
    "    i += 1\n",
    "    \n"
   ]
  },
  {
   "cell_type": "markdown",
   "metadata": {},
   "source": [
    "## Exercise #2 <br>\n",
    "<p>Get first prime numbers up to 100</p>"
   ]
  },
  {
   "cell_type": "code",
   "execution_count": 38,
   "metadata": {},
   "outputs": [
    {
     "name": "stdout",
     "output_type": "stream",
     "text": [
      "1\n",
      "2\n",
      "3\n",
      "5\n",
      "7\n",
      "11\n",
      "13\n",
      "17\n",
      "19\n",
      "23\n",
      "29\n",
      "31\n",
      "37\n",
      "41\n",
      "43\n",
      "47\n",
      "53\n",
      "59\n",
      "61\n",
      "67\n",
      "71\n",
      "73\n",
      "79\n",
      "83\n",
      "89\n",
      "97\n"
     ]
    }
   ],
   "source": [
    "# HINT::\n",
    "# An else after an if runs if the if didn’t\n",
    "# An else after a for runs if the for didn’t break\n",
    "\n",
    "\n",
    "for count in range(1, 101, 1):\n",
    "    is_prime = True\n",
    "    for i in range(2,count):\n",
    "        if (count % i == 0):\n",
    "            is_prime = False\n",
    "    if is_prime == True:\n",
    "       print(count)\n",
    "    \n",
    "    \n",
    "#     /Doesnt work below\n",
    "\n",
    "# for count in range(1, 101, 1):\n",
    "# #     is_prime = True\n",
    "#     for i in range(2,count):\n",
    "#         if (count % i == 0):\n",
    "#             continue\n",
    "#         else: #is_prime == True:\n",
    "#             print(count)\n",
    "\n"
   ]
  },
  {
   "cell_type": "code",
   "execution_count": 39,
   "metadata": {},
   "outputs": [
    {
     "name": "stdout",
     "output_type": "stream",
     "text": [
      "1\n",
      "2\n",
      "3\n",
      "5\n",
      "7\n",
      "11\n",
      "13\n",
      "17\n",
      "19\n",
      "23\n",
      "29\n",
      "31\n",
      "37\n",
      "41\n",
      "43\n",
      "47\n",
      "53\n",
      "59\n",
      "61\n",
      "67\n",
      "71\n",
      "73\n",
      "79\n",
      "83\n",
      "89\n",
      "97\n"
     ]
    }
   ],
   "source": [
    "for count in range(1, 101, 1):\n",
    "    is_prime = True\n",
    "    for i in range(2,count):\n",
    "        if (count % i == 0):\n",
    "            is_prime = False\n",
    "    if is_prime == True:\n",
    "       print(count)"
   ]
  },
  {
   "cell_type": "markdown",
   "metadata": {},
   "source": [
    "# Exercise 3 <br>\n",
    "<p>Take in a users input for their age, if they are younger than 18 print kids, if they're 18 to 65 print adults, else print seniors</p>"
   ]
  },
  {
   "cell_type": "code",
   "execution_count": 42,
   "metadata": {},
   "outputs": [
    {
     "name": "stdout",
     "output_type": "stream",
     "text": [
      "What is your current age ? 88\n",
      "Senior\n"
     ]
    }
   ],
   "source": [
    "age = int(input('What is your current age ? '))\n",
    "if age < 18:\n",
    "    print('kids')\n",
    "elif age < 65:\n",
    "    print('Adult')\n",
    "else:\n",
    "    print('Senior')\n",
    "\n",
    "\n",
    "    "
   ]
  }
 ],
 "metadata": {
  "kernelspec": {
   "display_name": "Python 3 (ipykernel)",
   "language": "python",
   "name": "python3"
  },
  "language_info": {
   "codemirror_mode": {
    "name": "ipython",
    "version": 3
   },
   "file_extension": ".py",
   "mimetype": "text/x-python",
   "name": "python",
   "nbconvert_exporter": "python",
   "pygments_lexer": "ipython3",
   "version": "3.9.12"
  }
 },
 "nbformat": 4,
 "nbformat_minor": 2
}
